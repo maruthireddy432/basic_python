{
 "cells": [
  {
   "cell_type": "markdown",
   "metadata": {},
   "source": [
    "Checking if number is prime or not"
   ]
  },
  {
   "cell_type": "code",
   "execution_count": 1,
   "metadata": {},
   "outputs": [
    {
     "name": "stdout",
     "output_type": "stream",
     "text": [
      "23 is a prime number\n"
     ]
    }
   ],
   "source": [
    "#taking input from user\n",
    "num=int(input(\"Enter the number\"))\n",
    "#checking the number is prime or not\n",
    "if num>1:\n",
    "    for i in range(2,(num//2)+1):\n",
    "        if num%i==0:\n",
    "            print(num,\" is not prime number\")\n",
    "            break\n",
    "    else:\n",
    "        print(num,\"is a prime number\")\n",
    "else:\n",
    "    print(num,\"is not a prime number\")"
   ]
  },
  {
   "cell_type": "markdown",
   "metadata": {},
   "source": [
    "Product of random numbers\n"
   ]
  },
  {
   "cell_type": "code",
   "execution_count": 2,
   "metadata": {},
   "outputs": [
    {
     "name": "stdout",
     "output_type": "stream",
     "text": [
      "Oh! Sorry your guess is wrong!\n",
      "The two numbers are 21,14 and product is 294\n"
     ]
    }
   ],
   "source": [
    "import random\n",
    "#getting random nummbers\n",
    "num1=random.randint(1,99)\n",
    "num2=random.randint(1,99)\n",
    "#getting user prediction for product\n",
    "user_predict=int(input(\"Guess the product\"))\n",
    "p=num1*num2\n",
    "if p==user_predict:\n",
    "    print(\" yaaah! you guessed it right!\")\n",
    "else:\n",
    "    print(\"Oh! Sorry your guess is wrong!\")\n",
    "print((\"The two numbers are {num11},{num12} and product is {pr}\").format(num11=num1,num12=num2,pr=p))"
   ]
  },
  {
   "cell_type": "markdown",
   "metadata": {},
   "source": [
    "Squares of numbers"
   ]
  },
  {
   "cell_type": "code",
   "execution_count": null,
   "metadata": {},
   "outputs": [
    {
     "name": "stdout",
     "output_type": "stream",
     "text": [
      "Even numbers= [100, 102, 104, 106, 108, 110, 112, 114, 116, 118, 120, 122, 124, 126, 128, 130, 132, 134, 136, 138, 140, 142, 144, 146, 148, 150, 152, 154, 156, 158, 160, 162, 164, 166, 168, 170, 172, 174, 176, 178, 180, 182, 184, 186, 188, 190, 192, 194, 196, 198, 200]\n",
      "sqr root of even numbers= [10000, 10404, 10816, 11236, 11664, 12100, 12544, 12996, 13456, 13924, 14400, 14884, 15376, 15876, 16384, 16900, 17424, 17956, 18496, 19044, 19600, 20164, 20736, 21316, 21904, 22500, 23104, 23716, 24336, 24964, 25600, 26244, 26896, 27556, 28224, 28900, 29584, 30276, 30976, 31684, 32400, 33124, 33856, 34596, 35344, 36100, 36864, 37636, 38416, 39204, 40000]\n",
      "Odd numbers= [101, 103, 105, 107, 109, 111, 113, 115, 117, 119, 121, 123, 125, 127, 129, 131, 133, 135, 137, 139, 141, 143, 145, 147, 149, 151, 153, 155, 157, 159, 161, 163, 165, 167, 169, 171, 173, 175, 177, 179, 181, 183, 185, 187, 189, 191, 193, 195, 197, 199]\n",
      "sqrt of odd numbers= [10201, 10609, 11025, 11449, 11881, 12321, 12769, 13225, 13689, 14161, 14641, 15129, 15625, 16129, 16641, 17161, 17689, 18225, 18769, 19321, 19881, 20449, 21025, 21609, 22201, 22801, 23409, 24025, 24649, 25281, 25921, 26569, 27225, 27889, 28561, 29241, 29929, 30625, 31329, 32041, 32761, 33489, 34225, 34969, 35721, 36481, 37249, 38025, 38809, 39601]\n"
     ]
    }
   ],
   "source": [
    "#for even numbers\n",
    "even_num=[]\n",
    "squres=[]\n",
    "for i in range(100,201):\n",
    "    if i%2==0:\n",
    "        even_num.append(i)\n",
    "print(\"Even numbers=\",even_num)\n",
    "for i in even_num:\n",
    "    squres.append(i**2)\n",
    "print(\"sqr root of even numbers=\",squres)\n",
    "\n",
    "#for odd numbers\n",
    "odd_num=[]\n",
    "odd_sqrs=[]\n",
    "for i in range(100,201):\n",
    "    if i%2!=0:\n",
    "        odd_num.append(i)\n",
    "print(\"Odd numbers=\",odd_num)\n",
    "for i in odd_num:\n",
    "    odd_sqrs.append(i**2)\n",
    "print(\"sqrt of odd numbers=\",odd_sqrs) "
   ]
  },
  {
   "cell_type": "markdown",
   "metadata": {},
   "source": [
    "Counting number of words"
   ]
  },
  {
   "cell_type": "code",
   "execution_count": null,
   "metadata": {},
   "outputs": [
    {
     "name": "stdout",
     "output_type": "stream",
     "text": [
      "10\n"
     ]
    }
   ],
   "source": [
    "#giving input text\n",
    "input_text=\"This text will be used to demonstrate the word counter.\"\n",
    "words=input_text.strip()\n",
    "count=1\n",
    "#counting the punctuation marks for word count\n",
    "for i in words:\n",
    "    if i==(' ') and ('.') and (','):\n",
    "        count+=1\n",
    "print(count)"
   ]
  },
  {
   "cell_type": "markdown",
   "metadata": {},
   "source": [
    "checking palindrome"
   ]
  },
  {
   "cell_type": "code",
   "execution_count": null,
   "metadata": {},
   "outputs": [
    {
     "data": {
      "text/plain": [
       "True"
      ]
     },
     "execution_count": 34,
     "metadata": {},
     "output_type": "execute_result"
    }
   ],
   "source": [
    "# removing punctuation from string\n",
    "pun=''' ,.'''\n",
    "str=\"Racecar.\"\n",
    "for i in str:\n",
    "    if i in pun:\n",
    "        str=str.replace(i,\"\")\n",
    "#function to check palindrome\n",
    "def is_palindrome(string):\n",
    "    rev=string[::-1]\n",
    "    if rev==string:\n",
    "        return True\n",
    "    else:\n",
    "        return False\n",
    "is_palindrome(str.lower())"
   ]
  }
 ],
 "metadata": {
  "kernelspec": {
   "display_name": "Python 3",
   "language": "python",
   "name": "python3"
  },
  "language_info": {
   "codemirror_mode": {
    "name": "ipython",
    "version": 3
   },
   "file_extension": ".py",
   "mimetype": "text/x-python",
   "name": "python",
   "nbconvert_exporter": "python",
   "pygments_lexer": "ipython3",
   "version": "3.12.3"
  }
 },
 "nbformat": 4,
 "nbformat_minor": 2
}
